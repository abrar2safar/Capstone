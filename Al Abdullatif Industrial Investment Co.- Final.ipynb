{
 "cells": [
  {
   "cell_type": "code",
   "execution_count": null,
   "metadata": {},
   "outputs": [],
   "source": []
  },
  {
   "cell_type": "code",
   "execution_count": 9,
   "metadata": {
    "ExecuteTime": {
     "end_time": "2019-12-17T11:02:43.126521Z",
     "start_time": "2019-12-17T11:02:43.095348Z"
    },
    "colab": {
     "base_uri": "https://localhost:8080/",
     "height": 80
    },
    "colab_type": "code",
    "executionInfo": {
     "elapsed": 4236,
     "status": "ok",
     "timestamp": 1575957674068,
     "user": {
      "displayName": "Mohammad Qahtani",
      "photoUrl": "",
      "userId": "12322900948233562889"
     },
     "user_tz": -180
    },
    "id": "RtrmJebdYO7o",
    "outputId": "c1dba36d-8358-426e-c2cd-e8c80bfc7bf1"
   },
   "outputs": [],
   "source": [
    "import pandas as pd\n",
    "import numpy as np\n",
    "import matplotlib\n",
    "import matplotlib.pyplot as plt\n",
    "import seaborn as sns\n",
    "import statsmodels.api as sm\n",
    "import datetime\n",
    "from keras.models import Model,Sequential\n",
    "from keras.layers import  LSTM\n",
    "from keras.layers.core import Activation, Dropout, Dense\n",
    "from sklearn.model_selection import train_test_split\n",
    "from sklearn.linear_model import (LinearRegression,Lasso,Ridge,ElasticNet,HuberRegressor,Lars,LassoLars,\n",
    "                                  PassiveAggressiveRegressor,RANSACRegressor,SGDRegressor)\n",
    "from sklearn.ensemble import GradientBoostingRegressor,RandomForestRegressor\n",
    "from sklearn.metrics import  mean_squared_error, r2_score\n",
    "from statsmodels.tsa.statespace.sarimax import SARIMAX\n",
    "from statsmodels.graphics.tsaplots import plot_acf,plot_pacf \n",
    "from statsmodels.tsa.seasonal import seasonal_decompose \n",
    "from pmdarima import auto_arima                        \n",
    "from statsmodels.tools.eval_measures import rmse\n",
    "import warnings\n",
    "warnings.filterwarnings(\"ignore\")\n",
    "import itertools\n",
    "\n",
    "sns.set(font_scale=1.5)\n",
    "sns.set_style(\"whitegrid\")\n",
    "\n",
    "%config InlineBackend.figure_format = 'retina'\n",
    "%matplotlib inline"
   ]
  },
  {
   "cell_type": "code",
   "execution_count": 10,
   "metadata": {
    "ExecuteTime": {
     "end_time": "2019-12-17T07:04:28.544249Z",
     "start_time": "2019-12-17T07:04:27.872380Z"
    },
    "colab": {
     "base_uri": "https://localhost:8080/",
     "height": 477
    },
    "colab_type": "code",
    "executionInfo": {
     "elapsed": 2192,
     "status": "error",
     "timestamp": 1575958581777,
     "user": {
      "displayName": "Mohammad Qahtani",
      "photoUrl": "",
      "userId": "12322900948233562889"
     },
     "user_tz": -180
    },
    "id": "Pra8BTMCYO7u",
    "outputId": "3cdec4ad-d679-468d-f1e3-768dd802c16c"
   },
   "outputs": [],
   "source": [
    "df = pd.read_csv('Equites_Historical_NonAdjusted_Prices.csv', usecols=['Industry Group', 'Symbol', \n",
    "                                                                       'Company Name', 'Date', 'Open', 'High',\n",
    "                                                                       'Low', 'Close', 'Change', '% Change', \n",
    "                                                                       'Volume Traded','Value Traded (SAR)', \n",
    "                                                                       'No. of Trades'])"
   ]
  },
  {
   "cell_type": "code",
   "execution_count": 11,
   "metadata": {
    "ExecuteTime": {
     "end_time": "2019-12-17T07:04:56.228224Z",
     "start_time": "2019-12-17T07:04:28.546691Z"
    },
    "colab": {},
    "colab_type": "code",
    "id": "CXkugLcKYO7w"
   },
   "outputs": [],
   "source": [
    "df.Date = pd.to_datetime(df.Date, dayfirst=True)"
   ]
  },
  {
   "cell_type": "code",
   "execution_count": 12,
   "metadata": {
    "ExecuteTime": {
     "end_time": "2019-12-17T07:04:56.323879Z",
     "start_time": "2019-12-17T07:04:56.230310Z"
    },
    "colab": {},
    "colab_type": "code",
    "id": "Q6OlwEiBYO7y"
   },
   "outputs": [],
   "source": [
    "df.sort_values('Date',inplace=True)"
   ]
  },
  {
   "cell_type": "code",
   "execution_count": 13,
   "metadata": {
    "ExecuteTime": {
     "end_time": "2019-12-17T07:04:56.343927Z",
     "start_time": "2019-12-17T07:04:56.326029Z"
    }
   },
   "outputs": [
    {
     "data": {
      "text/html": [
       "<div>\n",
       "<style scoped>\n",
       "    .dataframe tbody tr th:only-of-type {\n",
       "        vertical-align: middle;\n",
       "    }\n",
       "\n",
       "    .dataframe tbody tr th {\n",
       "        vertical-align: top;\n",
       "    }\n",
       "\n",
       "    .dataframe thead th {\n",
       "        text-align: right;\n",
       "    }\n",
       "</style>\n",
       "<table border=\"1\" class=\"dataframe\">\n",
       "  <thead>\n",
       "    <tr style=\"text-align: right;\">\n",
       "      <th></th>\n",
       "      <th>Industry Group</th>\n",
       "      <th>Symbol</th>\n",
       "      <th>Company Name</th>\n",
       "      <th>Date</th>\n",
       "      <th>Open</th>\n",
       "      <th>High</th>\n",
       "      <th>Low</th>\n",
       "      <th>Close</th>\n",
       "      <th>Change</th>\n",
       "      <th>% Change</th>\n",
       "      <th>Volume Traded</th>\n",
       "      <th>Value Traded (SAR)</th>\n",
       "      <th>No. of Trades</th>\n",
       "    </tr>\n",
       "  </thead>\n",
       "  <tbody>\n",
       "    <tr>\n",
       "      <td>138707</td>\n",
       "      <td>Materials</td>\n",
       "      <td>2260</td>\n",
       "      <td>Sahara Petrochemical Co.</td>\n",
       "      <td>2009-01-03</td>\n",
       "      <td>12.15</td>\n",
       "      <td>12.90</td>\n",
       "      <td>12.10</td>\n",
       "      <td>12.85</td>\n",
       "      <td>0.80</td>\n",
       "      <td>6.63</td>\n",
       "      <td>2617351</td>\n",
       "      <td>32610608.60</td>\n",
       "      <td>989</td>\n",
       "    </tr>\n",
       "    <tr>\n",
       "      <td>237007</td>\n",
       "      <td>Retailing</td>\n",
       "      <td>4050</td>\n",
       "      <td>Saudi Automotive Services Co.</td>\n",
       "      <td>2009-01-03</td>\n",
       "      <td>11.75</td>\n",
       "      <td>12.15</td>\n",
       "      <td>11.75</td>\n",
       "      <td>12.05</td>\n",
       "      <td>0.50</td>\n",
       "      <td>4.32</td>\n",
       "      <td>2767819</td>\n",
       "      <td>33195157.05</td>\n",
       "      <td>1206</td>\n",
       "    </tr>\n",
       "    <tr>\n",
       "      <td>73500</td>\n",
       "      <td>Materials</td>\n",
       "      <td>2020</td>\n",
       "      <td>Saudi Arabian Fertilizer Co.</td>\n",
       "      <td>2009-01-03</td>\n",
       "      <td>92.00</td>\n",
       "      <td>98.50</td>\n",
       "      <td>92.00</td>\n",
       "      <td>98.50</td>\n",
       "      <td>8.75</td>\n",
       "      <td>9.74</td>\n",
       "      <td>871456</td>\n",
       "      <td>84833829.25</td>\n",
       "      <td>999</td>\n",
       "    </tr>\n",
       "    <tr>\n",
       "      <td>407889</td>\n",
       "      <td>Insurance</td>\n",
       "      <td>8180</td>\n",
       "      <td>Al Sagr Cooperative Insurance Co.</td>\n",
       "      <td>2009-01-03</td>\n",
       "      <td>12.15</td>\n",
       "      <td>13.25</td>\n",
       "      <td>12.15</td>\n",
       "      <td>13.25</td>\n",
       "      <td>1.15</td>\n",
       "      <td>9.50</td>\n",
       "      <td>2091187</td>\n",
       "      <td>26429787.35</td>\n",
       "      <td>1209</td>\n",
       "    </tr>\n",
       "  </tbody>\n",
       "</table>\n",
       "</div>"
      ],
      "text/plain": [
       "       Industry Group  Symbol                       Company Name       Date  \\\n",
       "138707      Materials    2260           Sahara Petrochemical Co. 2009-01-03   \n",
       "237007      Retailing    4050      Saudi Automotive Services Co. 2009-01-03   \n",
       "73500       Materials    2020       Saudi Arabian Fertilizer Co. 2009-01-03   \n",
       "407889      Insurance    8180  Al Sagr Cooperative Insurance Co. 2009-01-03   \n",
       "\n",
       "         Open   High    Low  Close  Change  % Change  Volume Traded  \\\n",
       "138707  12.15  12.90  12.10  12.85    0.80      6.63        2617351   \n",
       "237007  11.75  12.15  11.75  12.05    0.50      4.32        2767819   \n",
       "73500   92.00  98.50  92.00  98.50    8.75      9.74         871456   \n",
       "407889  12.15  13.25  12.15  13.25    1.15      9.50        2091187   \n",
       "\n",
       "        Value Traded (SAR)  No. of Trades  \n",
       "138707         32610608.60            989  \n",
       "237007         33195157.05           1206  \n",
       "73500          84833829.25            999  \n",
       "407889         26429787.35           1209  "
      ]
     },
     "execution_count": 13,
     "metadata": {},
     "output_type": "execute_result"
    }
   ],
   "source": [
    "df.head(4)"
   ]
  },
  {
   "cell_type": "code",
   "execution_count": 14,
   "metadata": {
    "ExecuteTime": {
     "end_time": "2019-12-17T07:04:56.500553Z",
     "start_time": "2019-12-17T07:04:56.345961Z"
    }
   },
   "outputs": [
    {
     "data": {
      "text/plain": [
       "Industry Group  Company Name                           \n",
       "Banks           Al Rajhi Bank                              2722\n",
       "                Alinma Bank                                2722\n",
       "                Arab National Bank                         2722\n",
       "                Bank Albilad                               2722\n",
       "                Bank Aljazira                              2722\n",
       "                                                           ... \n",
       "Transportation  Saudi Public Transport Co.                 2722\n",
       "                United International Transportation Co.    2722\n",
       "                Saudi Ground Services Co.                  1102\n",
       "Utilities       National Gas and Industrialization Co.     2722\n",
       "                Saudi Electricity Co.                      2722\n",
       "Name: Company Name, Length: 205, dtype: int64"
      ]
     },
     "execution_count": 14,
     "metadata": {},
     "output_type": "execute_result"
    }
   ],
   "source": [
    "df['Company Name'].groupby(df['Industry Group']).value_counts()"
   ]
  },
  {
   "cell_type": "code",
   "execution_count": 15,
   "metadata": {
    "ExecuteTime": {
     "end_time": "2019-12-17T07:04:56.526891Z",
     "start_time": "2019-12-17T07:04:56.503081Z"
    },
    "colab": {},
    "colab_type": "code",
    "id": "Hhnbsn08YO70"
   },
   "outputs": [],
   "source": [
    "AbdullatifـIndustrial= df[df['Company Name']== 'Al Abdullatif Industrial Investment Co.']"
   ]
  },
  {
   "cell_type": "code",
   "execution_count": 17,
   "metadata": {
    "ExecuteTime": {
     "end_time": "2019-12-17T07:04:56.533682Z",
     "start_time": "2019-12-17T07:04:56.529834Z"
    },
    "colab": {},
    "colab_type": "code",
    "id": "hGQQdTC1YO72"
   },
   "outputs": [],
   "source": [
    "AbdullatifـIndustrial_for_model = AbdullatifـIndustrial[['Date','Open', 'High', 'Low',\n",
    "       'Close', 'Change', '% Change']]"
   ]
  },
  {
   "cell_type": "code",
   "execution_count": 18,
   "metadata": {
    "ExecuteTime": {
     "end_time": "2019-12-17T07:04:56.544337Z",
     "start_time": "2019-12-17T07:04:56.535705Z"
    }
   },
   "outputs": [
    {
     "data": {
      "text/html": [
       "<div>\n",
       "<style scoped>\n",
       "    .dataframe tbody tr th:only-of-type {\n",
       "        vertical-align: middle;\n",
       "    }\n",
       "\n",
       "    .dataframe tbody tr th {\n",
       "        vertical-align: top;\n",
       "    }\n",
       "\n",
       "    .dataframe thead th {\n",
       "        text-align: right;\n",
       "    }\n",
       "</style>\n",
       "<table border=\"1\" class=\"dataframe\">\n",
       "  <thead>\n",
       "    <tr style=\"text-align: right;\">\n",
       "      <th></th>\n",
       "      <th>Date</th>\n",
       "      <th>Open</th>\n",
       "      <th>High</th>\n",
       "      <th>Low</th>\n",
       "      <th>Close</th>\n",
       "      <th>Change</th>\n",
       "      <th>% Change</th>\n",
       "    </tr>\n",
       "  </thead>\n",
       "  <tbody>\n",
       "    <tr>\n",
       "      <td>158984</td>\n",
       "      <td>2009-01-03</td>\n",
       "      <td>44.7</td>\n",
       "      <td>46.1</td>\n",
       "      <td>44.7</td>\n",
       "      <td>46.1</td>\n",
       "      <td>1.5</td>\n",
       "      <td>3.36</td>\n",
       "    </tr>\n",
       "    <tr>\n",
       "      <td>158983</td>\n",
       "      <td>2009-01-04</td>\n",
       "      <td>46.0</td>\n",
       "      <td>46.8</td>\n",
       "      <td>45.8</td>\n",
       "      <td>46.6</td>\n",
       "      <td>0.5</td>\n",
       "      <td>1.08</td>\n",
       "    </tr>\n",
       "    <tr>\n",
       "      <td>158981</td>\n",
       "      <td>2009-01-05</td>\n",
       "      <td>46.5</td>\n",
       "      <td>47.9</td>\n",
       "      <td>46.4</td>\n",
       "      <td>46.8</td>\n",
       "      <td>0.2</td>\n",
       "      <td>0.42</td>\n",
       "    </tr>\n",
       "    <tr>\n",
       "      <td>158982</td>\n",
       "      <td>2009-01-06</td>\n",
       "      <td>47.0</td>\n",
       "      <td>48.2</td>\n",
       "      <td>46.8</td>\n",
       "      <td>47.0</td>\n",
       "      <td>0.2</td>\n",
       "      <td>0.42</td>\n",
       "    </tr>\n",
       "  </tbody>\n",
       "</table>\n",
       "</div>"
      ],
      "text/plain": [
       "             Date  Open  High   Low  Close  Change  % Change\n",
       "158984 2009-01-03  44.7  46.1  44.7   46.1     1.5      3.36\n",
       "158983 2009-01-04  46.0  46.8  45.8   46.6     0.5      1.08\n",
       "158981 2009-01-05  46.5  47.9  46.4   46.8     0.2      0.42\n",
       "158982 2009-01-06  47.0  48.2  46.8   47.0     0.2      0.42"
      ]
     },
     "execution_count": 18,
     "metadata": {},
     "output_type": "execute_result"
    }
   ],
   "source": [
    "AbdullatifـIndustrial_for_model.head(4)"
   ]
  },
  {
   "cell_type": "code",
   "execution_count": 19,
   "metadata": {
    "ExecuteTime": {
     "end_time": "2019-12-17T07:04:56.549598Z",
     "start_time": "2019-12-17T07:04:56.546092Z"
    },
    "colab": {},
    "colab_type": "code",
    "id": "Fsx89vFHYO74"
   },
   "outputs": [],
   "source": [
    "AbdullatifـIndustrial_for_model.reset_index(inplace=True)"
   ]
  },
  {
   "cell_type": "code",
   "execution_count": 20,
   "metadata": {
    "ExecuteTime": {
     "end_time": "2019-12-17T07:04:56.565738Z",
     "start_time": "2019-12-17T07:04:56.551977Z"
    },
    "colab": {},
    "colab_type": "code",
    "id": "atM8Tyv9YO76"
   },
   "outputs": [],
   "source": [
    "\n",
    "#Create a data point (i.e. a date) which splits the training and testing set\n",
    "split_date = list(AbdullatifـIndustrial_for_model[\"Date\"][-(227):])[0]"
   ]
  },
  {
   "cell_type": "code",
   "execution_count": 21,
   "metadata": {
    "ExecuteTime": {
     "end_time": "2019-12-17T07:04:56.571241Z",
     "start_time": "2019-12-17T07:04:56.567614Z"
    }
   },
   "outputs": [
    {
     "data": {
      "text/plain": [
       "Timestamp('2019-01-01 00:00:00')"
      ]
     },
     "execution_count": 21,
     "metadata": {},
     "output_type": "execute_result"
    }
   ],
   "source": [
    "split_date"
   ]
  },
  {
   "cell_type": "code",
   "execution_count": 24,
   "metadata": {
    "ExecuteTime": {
     "end_time": "2019-12-17T09:24:41.373095Z",
     "start_time": "2019-12-17T09:24:41.368547Z"
    }
   },
   "outputs": [],
   "source": [
    "AbdullatifـIndustrial_for_arima = AbdullatifـIndustrial_for_model[['Date', 'Open', 'High', 'Low', 'Close', 'Change', '% Change']]"
   ]
  },
  {
   "cell_type": "code",
   "execution_count": 25,
   "metadata": {
    "ExecuteTime": {
     "end_time": "2019-12-17T09:25:01.896764Z",
     "start_time": "2019-12-17T09:25:01.892315Z"
    }
   },
   "outputs": [],
   "source": [
    "AbdullatifـIndustrial_for_arima.set_index('Date',inplace=True)"
   ]
  },
  {
   "cell_type": "code",
   "execution_count": 26,
   "metadata": {
    "ExecuteTime": {
     "end_time": "2019-12-17T07:04:56.578041Z",
     "start_time": "2019-12-17T07:04:56.573239Z"
    },
    "colab": {},
    "colab_type": "code",
    "id": "B6pqaKxqYO77"
   },
   "outputs": [],
   "source": [
    "training_set, test_set = AbdullatifـIndustrial_for_model[AbdullatifـIndustrial_for_model['Date'] < split_date], AbdullatifـIndustrial_for_model[AbdullatifـIndustrial_for_model['Date'] >= split_date]\n"
   ]
  },
  {
   "cell_type": "code",
   "execution_count": 27,
   "metadata": {
    "ExecuteTime": {
     "end_time": "2019-12-17T07:04:56.582620Z",
     "start_time": "2019-12-17T07:04:56.579451Z"
    }
   },
   "outputs": [
    {
     "data": {
      "text/plain": [
       "(2495, 8)"
      ]
     },
     "execution_count": 27,
     "metadata": {},
     "output_type": "execute_result"
    }
   ],
   "source": [
    "training_set.shape"
   ]
  },
  {
   "cell_type": "code",
   "execution_count": 28,
   "metadata": {
    "ExecuteTime": {
     "end_time": "2019-12-17T07:04:56.587018Z",
     "start_time": "2019-12-17T07:04:56.584137Z"
    }
   },
   "outputs": [
    {
     "data": {
      "text/plain": [
       "(227, 8)"
      ]
     },
     "execution_count": 28,
     "metadata": {},
     "output_type": "execute_result"
    }
   ],
   "source": [
    "test_set.shape"
   ]
  },
  {
   "cell_type": "code",
   "execution_count": 29,
   "metadata": {
    "ExecuteTime": {
     "end_time": "2019-12-17T07:05:30.307560Z",
     "start_time": "2019-12-17T07:05:30.302959Z"
    },
    "colab": {},
    "colab_type": "code",
    "id": "qBVgNupmYO7_"
   },
   "outputs": [],
   "source": [
    "test_set.set_index('Date',inplace=True)"
   ]
  },
  {
   "cell_type": "code",
   "execution_count": 30,
   "metadata": {
    "ExecuteTime": {
     "end_time": "2019-12-17T07:05:30.715948Z",
     "start_time": "2019-12-17T07:05:30.711918Z"
    }
   },
   "outputs": [],
   "source": [
    "training_set.set_index('Date',inplace=True)"
   ]
  },
  {
   "cell_type": "code",
   "execution_count": 31,
   "metadata": {
    "ExecuteTime": {
     "end_time": "2019-12-17T07:05:31.130142Z",
     "start_time": "2019-12-17T07:05:31.124284Z"
    }
   },
   "outputs": [],
   "source": [
    "training_set = training_set.drop(['index'], 1)\n",
    "test_set = test_set.drop(['index'], 1)"
   ]
  },
  {
   "cell_type": "code",
   "execution_count": 32,
   "metadata": {
    "ExecuteTime": {
     "end_time": "2019-12-17T07:05:31.972148Z",
     "start_time": "2019-12-17T07:05:31.969068Z"
    },
    "colab": {},
    "colab_type": "code",
    "id": "rJ9W2bolYO8F",
    "outputId": "af249d4c-96ef-4c86-902f-15a206dddfde"
   },
   "outputs": [],
   "source": [
    "training = training_set.values"
   ]
  },
  {
   "cell_type": "code",
   "execution_count": 33,
   "metadata": {
    "ExecuteTime": {
     "end_time": "2019-12-17T07:05:33.647482Z",
     "start_time": "2019-12-17T07:05:33.643925Z"
    },
    "colab": {},
    "colab_type": "code",
    "id": "2EiTCwQkYO8D",
    "outputId": "b24077dc-df50-4b7d-99b6-1c983827072f"
   },
   "outputs": [],
   "source": [
    "testing = test_set.values"
   ]
  },
  {
   "cell_type": "markdown",
   "metadata": {},
   "source": [
    "## LSTM"
   ]
  },
  {
   "cell_type": "markdown",
   "metadata": {},
   "source": [
    "## Window length"
   ]
  },
  {
   "cell_type": "code",
   "execution_count": 34,
   "metadata": {
    "ExecuteTime": {
     "end_time": "2019-12-16T09:40:45.535004Z",
     "start_time": "2019-12-16T09:40:45.516634Z"
    },
    "colab": {},
    "colab_type": "code",
    "id": "VyNbm5bRYO8P"
   },
   "outputs": [],
   "source": [
    "window_len = 5\n",
    "\n",
    "LSTM_training_inputs = []\n",
    "for i in range(len(training)-window_len):\n",
    "    temp_set = training[i:(i+window_len)].copy()\n",
    "    LSTM_training_inputs.append(temp_set)\n",
    "LSTM_training_outputs = training_set['Close'][window_len:].values\n",
    "LSTM_training_inputs = np.array(LSTM_training_inputs)\n",
    "\n",
    "\n",
    "#Create windows for testing\n",
    "LSTM_test_inputs = []\n",
    "for i in range(len(testing)-window_len):\n",
    "    temp_set1 = testing[i:(i+window_len)].copy()\n",
    "    LSTM_test_inputs.append(temp_set1)\n",
    "LSTM_test_outputs = test_set['Close'][window_len:].values\n",
    "LSTM_test_inputs = np.array(LSTM_test_inputs)"
   ]
  },
  {
   "cell_type": "code",
   "execution_count": 35,
   "metadata": {
    "ExecuteTime": {
     "end_time": "2019-12-16T09:52:18.495496Z",
     "start_time": "2019-12-16T09:52:18.490237Z"
    }
   },
   "outputs": [
    {
     "data": {
      "text/plain": [
       "(222, 5, 6)"
      ]
     },
     "execution_count": 35,
     "metadata": {},
     "output_type": "execute_result"
    }
   ],
   "source": [
    "LSTM_test_inputs.shape"
   ]
  },
  {
   "cell_type": "code",
   "execution_count": 36,
   "metadata": {
    "ExecuteTime": {
     "end_time": "2019-12-16T09:52:19.073417Z",
     "start_time": "2019-12-16T09:52:19.068320Z"
    }
   },
   "outputs": [
    {
     "data": {
      "text/plain": [
       "(2490, 5, 6)"
      ]
     },
     "execution_count": 36,
     "metadata": {},
     "output_type": "execute_result"
    }
   ],
   "source": [
    "LSTM_training_inputs.shape"
   ]
  },
  {
   "cell_type": "code",
   "execution_count": 37,
   "metadata": {
    "ExecuteTime": {
     "end_time": "2019-12-16T09:40:51.480878Z",
     "start_time": "2019-12-16T09:40:51.477733Z"
    }
   },
   "outputs": [],
   "source": [
    "# If you want to reste the model \n",
    "# nn_model.reset_states()\n",
    "# nn_model.reset_metrics()"
   ]
  },
  {
   "cell_type": "code",
   "execution_count": 38,
   "metadata": {
    "ExecuteTime": {
     "end_time": "2019-12-16T09:40:55.460395Z",
     "start_time": "2019-12-16T09:40:55.453236Z"
    },
    "colab": {},
    "colab_type": "code",
    "id": "mkbYUouYYO8R"
   },
   "outputs": [],
   "source": [
    "def build_model(inputs, output_size, neurons, activ_func=\"relu\",\n",
    "                dropout=0.10, loss=\"mae\", optimizer=\"adam\"):\n",
    "    \n",
    "    model = Sequential()\n",
    "    model.add(LSTM(neurons, input_shape=(inputs.shape[1], inputs.shape[2])))\n",
    "    model.add(Dropout(dropout))\n",
    "    model.add(Dense(units=output_size))\n",
    "    model.add(Activation(activ_func))\n",
    "\n",
    "    model.compile(loss=loss, optimizer=optimizer)\n",
    "    return model"
   ]
  },
  {
   "cell_type": "code",
   "execution_count": 39,
   "metadata": {
    "ExecuteTime": {
     "end_time": "2019-12-16T09:42:15.566497Z",
     "start_time": "2019-12-16T09:41:05.252440Z"
    },
    "colab": {},
    "colab_type": "code",
    "id": "HAt-yt1XYO8U",
    "outputId": "463e3ba4-ca27-4456-c280-5b7ce993a51c",
    "scrolled": true
   },
   "outputs": [
    {
     "name": "stdout",
     "output_type": "stream",
     "text": [
      "Train on 1992 samples, validate on 498 samples\n",
      "Epoch 1/120\n",
      "1992/1992 [==============================] - 1s 696us/step - loss: 33.2695 - val_loss: 13.0865\n",
      "Epoch 2/120\n",
      "1992/1992 [==============================] - 1s 349us/step - loss: 33.2695 - val_loss: 13.0865\n",
      "Epoch 3/120\n",
      "1992/1992 [==============================] - 1s 330us/step - loss: 33.2695 - val_loss: 13.0865\n",
      "Epoch 4/120\n",
      "1992/1992 [==============================] - 1s 319us/step - loss: 33.2695 - val_loss: 13.0865\n",
      "Epoch 5/120\n",
      "1992/1992 [==============================] - 1s 365us/step - loss: 33.2695 - val_loss: 13.0865\n",
      "Epoch 6/120\n",
      "1992/1992 [==============================] - 1s 384us/step - loss: 33.2695 - val_loss: 13.0865\n",
      "Epoch 7/120\n",
      "1992/1992 [==============================] - 1s 373us/step - loss: 33.2695 - val_loss: 13.0865\n",
      "Epoch 8/120\n",
      "1992/1992 [==============================] - 1s 370us/step - loss: 33.2695 - val_loss: 13.0865\n",
      "Epoch 9/120\n",
      "1992/1992 [==============================] - 1s 357us/step - loss: 33.2695 - val_loss: 13.0865\n",
      "Epoch 10/120\n",
      "1992/1992 [==============================] - 1s 354us/step - loss: 33.2695 - val_loss: 13.0865\n",
      "Epoch 11/120\n",
      "1992/1992 [==============================] - 1s 359us/step - loss: 33.2695 - val_loss: 13.0865\n",
      "Epoch 12/120\n",
      "1992/1992 [==============================] - 1s 354us/step - loss: 33.2695 - val_loss: 13.0865\n",
      "Epoch 13/120\n",
      "1992/1992 [==============================] - 1s 351us/step - loss: 33.2695 - val_loss: 13.0865\n",
      "Epoch 14/120\n",
      "1992/1992 [==============================] - 1s 350us/step - loss: 33.2695 - val_loss: 13.0865\n",
      "Epoch 15/120\n",
      "1992/1992 [==============================] - 1s 423us/step - loss: 33.2695 - val_loss: 13.0865\n",
      "Epoch 16/120\n",
      "1992/1992 [==============================] - 1s 359us/step - loss: 33.2695 - val_loss: 13.0865\n",
      "Epoch 17/120\n",
      "1992/1992 [==============================] - 1s 349us/step - loss: 33.2695 - val_loss: 13.0865\n",
      "Epoch 18/120\n",
      "1992/1992 [==============================] - 1s 352us/step - loss: 33.2695 - val_loss: 13.0865\n",
      "Epoch 19/120\n",
      "1992/1992 [==============================] - 1s 350us/step - loss: 33.2695 - val_loss: 13.0865\n",
      "Epoch 20/120\n",
      "1992/1992 [==============================] - 1s 353us/step - loss: 33.2695 - val_loss: 13.0865\n",
      "Epoch 21/120\n",
      "1992/1992 [==============================] - 1s 367us/step - loss: 33.2695 - val_loss: 13.0865\n",
      "Epoch 22/120\n",
      "1992/1992 [==============================] - 1s 351us/step - loss: 33.2695 - val_loss: 13.0865\n",
      "Epoch 23/120\n",
      "1992/1992 [==============================] - 1s 378us/step - loss: 33.2695 - val_loss: 13.0865\n",
      "Epoch 24/120\n",
      "1992/1992 [==============================] - 1s 365us/step - loss: 33.2695 - val_loss: 13.0865\n",
      "Epoch 25/120\n",
      "1992/1992 [==============================] - 1s 391us/step - loss: 33.2695 - val_loss: 13.0865\n",
      "Epoch 26/120\n",
      "1992/1992 [==============================] - 1s 372us/step - loss: 33.2695 - val_loss: 13.0865\n",
      "Epoch 27/120\n",
      "1992/1992 [==============================] - 1s 372us/step - loss: 33.2695 - val_loss: 13.0865\n",
      "Epoch 28/120\n",
      "1992/1992 [==============================] - 1s 390us/step - loss: 33.2695 - val_loss: 13.0865\n",
      "Epoch 29/120\n",
      "1992/1992 [==============================] - 1s 370us/step - loss: 33.2695 - val_loss: 13.0865\n",
      "Epoch 30/120\n",
      "1992/1992 [==============================] - 1s 374us/step - loss: 33.2695 - val_loss: 13.0865\n",
      "Epoch 31/120\n",
      "1992/1992 [==============================] - 1s 373us/step - loss: 33.2695 - val_loss: 13.0865\n",
      "Epoch 32/120\n",
      "1992/1992 [==============================] - 1s 386us/step - loss: 33.2695 - val_loss: 13.0865\n",
      "Epoch 33/120\n",
      "1992/1992 [==============================] - 1s 368us/step - loss: 33.2695 - val_loss: 13.0865\n",
      "Epoch 34/120\n",
      "1992/1992 [==============================] - 1s 361us/step - loss: 33.2695 - val_loss: 13.0865\n",
      "Epoch 35/120\n",
      "1992/1992 [==============================] - 1s 358us/step - loss: 33.2695 - val_loss: 13.0865\n",
      "Epoch 36/120\n",
      "1992/1992 [==============================] - 1s 333us/step - loss: 33.2695 - val_loss: 13.0865\n",
      "Epoch 37/120\n",
      "1992/1992 [==============================] - 1s 345us/step - loss: 33.2695 - val_loss: 13.0865\n",
      "Epoch 38/120\n",
      "1992/1992 [==============================] - 1s 345us/step - loss: 33.2695 - val_loss: 13.0865\n",
      "Epoch 39/120\n",
      "1992/1992 [==============================] - 1s 384us/step - loss: 33.2695 - val_loss: 13.0865\n",
      "Epoch 40/120\n",
      "1992/1992 [==============================] - 1s 311us/step - loss: 33.2695 - val_loss: 13.0865\n",
      "Epoch 41/120\n",
      "1992/1992 [==============================] - 1s 304us/step - loss: 33.2695 - val_loss: 13.0865\n",
      "Epoch 42/120\n",
      "1992/1992 [==============================] - 1s 365us/step - loss: 33.2695 - val_loss: 13.0865\n",
      "Epoch 43/120\n",
      "1992/1992 [==============================] - 1s 373us/step - loss: 33.2695 - val_loss: 13.0865\n",
      "Epoch 44/120\n",
      "1992/1992 [==============================] - 1s 318us/step - loss: 33.2695 - val_loss: 13.0865\n",
      "Epoch 45/120\n",
      "1992/1992 [==============================] - 1s 354us/step - loss: 33.2695 - val_loss: 13.0865\n",
      "Epoch 46/120\n",
      "1992/1992 [==============================] - 1s 356us/step - loss: 33.2695 - val_loss: 13.0865\n",
      "Epoch 47/120\n",
      "1992/1992 [==============================] - 1s 346us/step - loss: 33.2695 - val_loss: 13.0865\n",
      "Epoch 48/120\n",
      "1992/1992 [==============================] - 1s 308us/step - loss: 33.2695 - val_loss: 13.0865\n",
      "Epoch 49/120\n",
      "1992/1992 [==============================] - 1s 318us/step - loss: 33.2695 - val_loss: 13.0865\n",
      "Epoch 50/120\n",
      "1992/1992 [==============================] - 1s 321us/step - loss: 33.2695 - val_loss: 13.0865\n",
      "Epoch 51/120\n",
      "1992/1992 [==============================] - 1s 310us/step - loss: 33.2695 - val_loss: 13.0865\n",
      "Epoch 52/120\n",
      "1992/1992 [==============================] - 1s 331us/step - loss: 33.2695 - val_loss: 13.0865\n",
      "Epoch 53/120\n",
      "1992/1992 [==============================] - 1s 318us/step - loss: 33.2695 - val_loss: 13.0865\n",
      "Epoch 54/120\n",
      "1992/1992 [==============================] - 1s 383us/step - loss: 33.2695 - val_loss: 13.0865\n",
      "Epoch 55/120\n",
      "1992/1992 [==============================] - 1s 370us/step - loss: 33.2695 - val_loss: 13.0865\n",
      "Epoch 56/120\n",
      "1992/1992 [==============================] - 1s 373us/step - loss: 33.2695 - val_loss: 13.0865\n",
      "Epoch 57/120\n",
      "1992/1992 [==============================] - 1s 344us/step - loss: 33.2695 - val_loss: 13.0865\n",
      "Epoch 58/120\n",
      "1992/1992 [==============================] - 1s 354us/step - loss: 33.2695 - val_loss: 13.0865\n",
      "Epoch 59/120\n",
      "1992/1992 [==============================] - 1s 338us/step - loss: 33.2695 - val_loss: 13.0865\n",
      "Epoch 60/120\n",
      "1992/1992 [==============================] - 1s 368us/step - loss: 33.2695 - val_loss: 13.0865\n",
      "Epoch 61/120\n",
      "1992/1992 [==============================] - 1s 371us/step - loss: 33.2695 - val_loss: 13.0865\n",
      "Epoch 62/120\n",
      "1992/1992 [==============================] - 1s 369us/step - loss: 33.2695 - val_loss: 13.0865\n",
      "Epoch 63/120\n",
      "1992/1992 [==============================] - 1s 381us/step - loss: 33.2695 - val_loss: 13.0865\n",
      "Epoch 64/120\n",
      "1992/1992 [==============================] - 1s 380us/step - loss: 33.2695 - val_loss: 13.0865\n",
      "Epoch 65/120\n",
      "1992/1992 [==============================] - 1s 355us/step - loss: 33.2695 - val_loss: 13.0865\n",
      "Epoch 66/120\n",
      "1992/1992 [==============================] - 1s 321us/step - loss: 33.2695 - val_loss: 13.0865\n",
      "Epoch 67/120\n",
      "1992/1992 [==============================] - 1s 358us/step - loss: 33.2695 - val_loss: 13.0865\n",
      "Epoch 68/120\n",
      "1992/1992 [==============================] - 1s 385us/step - loss: 33.2695 - val_loss: 13.0865\n",
      "Epoch 69/120\n",
      "1992/1992 [==============================] - 1s 374us/step - loss: 33.2695 - val_loss: 13.0865\n",
      "Epoch 70/120\n",
      "1992/1992 [==============================] - 1s 385us/step - loss: 33.2695 - val_loss: 13.0865\n",
      "Epoch 71/120\n",
      "1992/1992 [==============================] - 1s 503us/step - loss: 33.2695 - val_loss: 13.0865\n",
      "Epoch 72/120\n",
      "1992/1992 [==============================] - 1s 487us/step - loss: 33.2695 - val_loss: 13.0865\n",
      "Epoch 73/120\n",
      "1992/1992 [==============================] - 1s 485us/step - loss: 33.2695 - val_loss: 13.0865\n",
      "Epoch 74/120\n",
      "1992/1992 [==============================] - 1s 503us/step - loss: 33.2695 - val_loss: 13.0865\n",
      "Epoch 75/120\n",
      "1992/1992 [==============================] - 1s 493us/step - loss: 33.2695 - val_loss: 13.0865\n",
      "Epoch 76/120\n"
     ]
    },
    {
     "name": "stdout",
     "output_type": "stream",
     "text": [
      "1992/1992 [==============================] - 1s 485us/step - loss: 33.2695 - val_loss: 13.0865\n",
      "Epoch 77/120\n",
      "1992/1992 [==============================] - 1s 497us/step - loss: 33.2695 - val_loss: 13.0865\n",
      "Epoch 78/120\n",
      "1992/1992 [==============================] - 1s 492us/step - loss: 33.2695 - val_loss: 13.0865\n",
      "Epoch 79/120\n",
      "1992/1992 [==============================] - 1s 480us/step - loss: 33.2695 - val_loss: 13.0865\n",
      "Epoch 80/120\n",
      "1992/1992 [==============================] - 1s 492us/step - loss: 33.2695 - val_loss: 13.0865\n",
      "Epoch 81/120\n",
      "1992/1992 [==============================] - 1s 489us/step - loss: 33.2695 - val_loss: 13.0865\n",
      "Epoch 82/120\n",
      "1992/1992 [==============================] - 1s 470us/step - loss: 33.2695 - val_loss: 13.0865\n",
      "Epoch 83/120\n",
      "1992/1992 [==============================] - 1s 473us/step - loss: 33.2695 - val_loss: 13.0865\n",
      "Epoch 84/120\n",
      "1992/1992 [==============================] - 1s 559us/step - loss: 33.2695 - val_loss: 13.0865\n",
      "Epoch 85/120\n",
      "1992/1992 [==============================] - 1s 504us/step - loss: 33.2695 - val_loss: 13.0865\n",
      "Epoch 86/120\n",
      "1992/1992 [==============================] - 1s 479us/step - loss: 33.2695 - val_loss: 13.0865\n",
      "Epoch 87/120\n",
      "1992/1992 [==============================] - 1s 484us/step - loss: 33.2695 - val_loss: 13.0865\n",
      "Epoch 88/120\n",
      "1992/1992 [==============================] - 1s 468us/step - loss: 33.2695 - val_loss: 13.0865\n",
      "Epoch 89/120\n",
      "1992/1992 [==============================] - 1s 491us/step - loss: 33.2695 - val_loss: 13.0865\n",
      "Epoch 90/120\n",
      "1992/1992 [==============================] - 1s 499us/step - loss: 33.2695 - val_loss: 13.0865\n",
      "Epoch 91/120\n",
      "1992/1992 [==============================] - 1s 484us/step - loss: 33.2695 - val_loss: 13.0865\n",
      "Epoch 92/120\n",
      "1992/1992 [==============================] - 1s 476us/step - loss: 33.2695 - val_loss: 13.0865\n",
      "Epoch 93/120\n",
      "1992/1992 [==============================] - 1s 490us/step - loss: 33.2695 - val_loss: 13.0865\n",
      "Epoch 94/120\n",
      "1992/1992 [==============================] - 1s 481us/step - loss: 33.2695 - val_loss: 13.0865\n",
      "Epoch 95/120\n",
      "1992/1992 [==============================] - 1s 471us/step - loss: 33.2695 - val_loss: 13.0865\n",
      "Epoch 96/120\n",
      "1992/1992 [==============================] - 1s 474us/step - loss: 33.2695 - val_loss: 13.0865\n",
      "Epoch 97/120\n",
      "1992/1992 [==============================] - 1s 483us/step - loss: 33.2695 - val_loss: 13.0865\n",
      "Epoch 98/120\n",
      "1992/1992 [==============================] - 1s 481us/step - loss: 33.2695 - val_loss: 13.0865\n",
      "Epoch 99/120\n",
      "1992/1992 [==============================] - 1s 469us/step - loss: 33.2695 - val_loss: 13.0865\n",
      "Epoch 100/120\n",
      "1992/1992 [==============================] - 1s 471us/step - loss: 33.2695 - val_loss: 13.0865\n",
      "Epoch 101/120\n",
      "1992/1992 [==============================] - 1s 464us/step - loss: 33.2695 - val_loss: 13.0865\n",
      "Epoch 102/120\n",
      "1992/1992 [==============================] - 1s 479us/step - loss: 33.2695 - val_loss: 13.0865\n",
      "Epoch 103/120\n",
      "1992/1992 [==============================] - 1s 498us/step - loss: 33.2695 - val_loss: 13.0865\n",
      "Epoch 104/120\n",
      "1992/1992 [==============================] - 1s 477us/step - loss: 33.2695 - val_loss: 13.0865\n",
      "Epoch 105/120\n",
      "1992/1992 [==============================] - 1s 477us/step - loss: 33.2695 - val_loss: 13.0865\n",
      "Epoch 106/120\n",
      "1992/1992 [==============================] - 1s 467us/step - loss: 33.2695 - val_loss: 13.0865\n",
      "Epoch 107/120\n",
      "1992/1992 [==============================] - 1s 467us/step - loss: 33.2695 - val_loss: 13.0865\n",
      "Epoch 108/120\n",
      "1992/1992 [==============================] - 1s 498us/step - loss: 33.2695 - val_loss: 13.0865\n",
      "Epoch 109/120\n",
      "1992/1992 [==============================] - 1s 493us/step - loss: 33.2695 - val_loss: 13.0865\n",
      "Epoch 110/120\n",
      "1992/1992 [==============================] - 1s 503us/step - loss: 33.2695 - val_loss: 13.0865\n",
      "Epoch 111/120\n",
      "1992/1992 [==============================] - 1s 473us/step - loss: 33.2695 - val_loss: 13.0865\n",
      "Epoch 112/120\n",
      "1992/1992 [==============================] - 1s 470us/step - loss: 33.2695 - val_loss: 13.0865\n",
      "Epoch 113/120\n",
      "1992/1992 [==============================] - 1s 472us/step - loss: 33.2695 - val_loss: 13.0865\n",
      "Epoch 114/120\n",
      "1992/1992 [==============================] - 1s 498us/step - loss: 33.2695 - val_loss: 13.0865\n",
      "Epoch 115/120\n",
      "1992/1992 [==============================] - 1s 497us/step - loss: 33.2695 - val_loss: 13.0865\n",
      "Epoch 116/120\n",
      "1992/1992 [==============================] - 1s 514us/step - loss: 33.2695 - val_loss: 13.0865\n",
      "Epoch 117/120\n",
      "1992/1992 [==============================] - 1s 509us/step - loss: 33.2695 - val_loss: 13.0865\n",
      "Epoch 118/120\n",
      "1992/1992 [==============================] - 1s 527us/step - loss: 33.2695 - val_loss: 13.0865\n",
      "Epoch 119/120\n",
      "1992/1992 [==============================] - 1s 536us/step - loss: 33.2695 - val_loss: 13.0865\n",
      "Epoch 120/120\n",
      "1992/1992 [==============================] - 1s 532us/step - loss: 33.2695 - val_loss: 13.0865\n"
     ]
    }
   ],
   "source": [
    "\n",
    "nn_model = build_model(LSTM_training_inputs, output_size=1, neurons = 400)\n",
    "\n",
    "nn_history = nn_model.fit(LSTM_training_inputs, LSTM_training_outputs, \n",
    "                            epochs=120, batch_size=160, verbose=1,validation_split= 0.2)"
   ]
  },
  {
   "cell_type": "code",
   "execution_count": 40,
   "metadata": {
    "ExecuteTime": {
     "end_time": "2019-12-16T09:42:22.496721Z",
     "start_time": "2019-12-16T09:42:22.217180Z"
    },
    "colab": {},
    "colab_type": "code",
    "id": "j2pgW2QRYO8X"
   },
   "outputs": [
    {
     "data": {
      "text/plain": [
       "<matplotlib.legend.Legend at 0x1c39e454d0>"
      ]
     },
     "execution_count": 40,
     "metadata": {},
     "output_type": "execute_result"
    },
    {
     "data": {
      "image/png": "[encoded data removed]",
      "text/plain": [
       "<Figure size 432x288 with 1 Axes>"
      ]
     },
     "metadata": {
      "image/png": {
       "height": 256,
       "width": 377
      },
      "needs_background": "light"
     },
     "output_type": "display_data"
    }
   ],
   "source": [
    "train_loss = nn_history.history['loss']\n",
    "test_loss = nn_history.history['val_loss']\n",
    "plt.plot(train_loss, label='Training loss')\n",
    "plt.plot(test_loss, label='Testing loss')\n",
    "plt.legend()"
   ]
  },
  {
   "cell_type": "code",
   "execution_count": 41,
   "metadata": {
    "ExecuteTime": {
     "end_time": "2019-12-16T10:05:35.264467Z",
     "start_time": "2019-12-16T10:05:35.260497Z"
    }
   },
   "outputs": [],
   "source": [
    "#Reshape from 3D array to 2D array to fit the other models \n",
    "X_train = LSTM_training_inputs.reshape((2490,30))\n",
    "X_test = LSTM_test_inputs.reshape((222,30))"
   ]
  },
  {
   "cell_type": "markdown",
   "metadata": {},
   "source": [
    "## ARIMA"
   ]
  },
  {
   "cell_type": "code",
   "execution_count": 42,
   "metadata": {
    "ExecuteTime": {
     "end_time": "2019-12-17T09:28:43.432496Z",
     "start_time": "2019-12-17T09:28:43.423317Z"
    }
   },
   "outputs": [],
   "source": [
    "y = AbdullatifـIndustrial_for_arima['Close'].resample('MS').mean()"
   ]
  },
  {
   "cell_type": "code",
   "execution_count": null,
   "metadata": {},
   "outputs": [],
   "source": [
    "#building the model\n",
    "from pyramid.arima import auto_arima\n",
    "model = auto_arima(train, trace=True, error_action='ignore', suppress_warnings=True)\n",
    "model.fit(train)\n",
    "\n",
    "forecast = model.predict(n_periods=len(valid))\n",
    "forecast = pd.DataFrame(forecast,index = valid.index,columns=['Prediction'])\n",
    "\n",
    "#plot the predictions for validation set\n",
    "plt.plot(train, label='Train')\n",
    "plt.plot(valid, label='Valid')\n",
    "plt.plot(forecast, label='Prediction')\n",
    "plt.show()\n",
    "\n",
    "\n",
    "#calculate rmse\n",
    "from math import sqrt\n",
    "from sklearn.metrics import mean_squared_error\n",
    "\n",
    "rms = sqrt(mean_squared_error(valid,forecast))\n",
    "print(rms)\n"
   ]
  },
  {
   "cell_type": "code",
   "execution_count": null,
   "metadata": {},
   "outputs": [],
   "source": [
    "# loading packages\n",
    "library(forecast)\n",
    "library(Metrics)\n",
    "\n",
    "# reading data\n",
    "data = read.csv(\"international-airline-passengers.csv\")\n",
    "\n",
    "# splitting data into train and valid sets\n",
    "train = data[1:100,]\n",
    "valid = data[101:nrow(data),]\n",
    "\n",
    "# training model\n",
    "model = auto.arima(train)\n",
    "\n",
    "# model summary\n",
    "summary(model)\n",
    "\n",
    "# forecasting\n",
    "forecast = predict(model,44)\n",
    "\n",
    "# evaluation\n",
    "rmse(valid$International.airline.passengers, forecast$pred)"
   ]
  },
  {
   "cell_type": "code",
   "execution_count": 53,
   "metadata": {
    "ExecuteTime": {
     "end_time": "2019-12-17T09:45:10.658834Z",
     "start_time": "2019-12-17T09:45:10.650446Z"
    }
   },
   "outputs": [
    {
     "name": "stdout",
     "output_type": "stream",
     "text": [
      "Examples of parameter combinations for Seasonal ARIMA...\n",
      "SARIMAX: (0, 0, 1) x (0, 0, 1, 12)\n",
      "SARIMAX: (0, 0, 1) x (0, 1, 0, 12)\n",
      "SARIMAX: (0, 1, 0) x (0, 1, 1, 12)\n",
      "SARIMAX: (0, 1, 0) x (1, 0, 0, 12)\n"
     ]
    }
   ],
   "source": [
    "p = d = q = range(0, 2)\n",
    "pdq = list(itertools.product(p, d, q))\n",
    "seasonal_pdq = [(x[0], x[1], x[2], 12) for x in list(itertools.product(p, d, q))]\n",
    "print('Examples of parameter combinations for Seasonal ARIMA...')\n",
    "print('SARIMAX: {} x {}'.format(pdq[1], seasonal_pdq[1]))\n",
    "print('SARIMAX: {} x {}'.format(pdq[1], seasonal_pdq[2]))\n",
    "print('SARIMAX: {} x {}'.format(pdq[2], seasonal_pdq[3]))\n",
    "print('SARIMAX: {} x {}'.format(pdq[2], seasonal_pdq[4]))"
   ]
  },
  {
   "cell_type": "code",
   "execution_count": 51,
   "metadata": {
    "ExecuteTime": {
     "end_time": "2019-12-17T10:33:55.132336Z",
     "start_time": "2019-12-17T10:28:02.564388Z"
    },
    "scrolled": true
   },
   "outputs": [
    {
     "name": "stdout",
     "output_type": "stream",
     "text": [
      "ARIMA(0, 0, 0)x(0, 0, 0, 12)12 - AIC:1256.3776197667144\n",
      "ARIMA(0, 0, 0)x(0, 0, 1, 12)12 - AIC:1014.6095202733493\n",
      "ARIMA(0, 0, 0)x(0, 1, 0, 12)12 - AIC:863.910497301239\n",
      "ARIMA(0, 0, 0)x(0, 1, 1, 12)12 - AIC:756.3898580171909\n",
      "ARIMA(0, 0, 0)x(1, 0, 0, 12)12 - AIC:846.8978870331193\n",
      "ARIMA(0, 0, 0)x(1, 0, 1, 12)12 - AIC:829.2302030738657\n",
      "ARIMA(0, 0, 0)x(1, 1, 0, 12)12 - AIC:768.9568329864944\n",
      "ARIMA(0, 0, 0)x(1, 1, 1, 12)12 - AIC:757.7621144086628\n",
      "ARIMA(0, 0, 1)x(0, 0, 0, 12)12 - AIC:1079.9383550951532\n",
      "ARIMA(0, 0, 1)x(0, 0, 1, 12)12 - AIC:862.9249121577058\n",
      "ARIMA(0, 0, 1)x(0, 1, 0, 12)12 - AIC:720.8929624282611\n",
      "ARIMA(0, 0, 1)x(0, 1, 1, 12)12 - AIC:631.4330393888777\n",
      "ARIMA(0, 0, 1)x(1, 0, 0, 12)12 - AIC:708.7612587067437\n",
      "ARIMA(0, 0, 1)x(1, 0, 1, 12)12 - AIC:696.2871503591905\n",
      "ARIMA(0, 0, 1)x(1, 1, 0, 12)12 - AIC:654.1289435100696\n",
      "ARIMA(0, 0, 1)x(1, 1, 1, 12)12 - AIC:633.4329699529649\n",
      "ARIMA(0, 1, 0)x(0, 0, 0, 12)12 - AIC:544.9680918093918\n",
      "ARIMA(0, 1, 0)x(0, 0, 1, 12)12 - AIC:492.4254386018477\n",
      "ARIMA(0, 1, 0)x(0, 1, 0, 12)12 - AIC:601.2257075097774\n",
      "ARIMA(0, 1, 0)x(0, 1, 1, 12)12 - AIC:450.53054688782356\n",
      "ARIMA(0, 1, 0)x(1, 0, 0, 12)12 - AIC:493.1907857136771\n",
      "ARIMA(0, 1, 0)x(1, 0, 1, 12)12 - AIC:482.0774977578585\n",
      "ARIMA(0, 1, 0)x(1, 1, 0, 12)12 - AIC:476.61078231956435\n",
      "ARIMA(0, 1, 0)x(1, 1, 1, 12)12 - AIC:466.73859784486626\n",
      "ARIMA(0, 1, 1)x(0, 0, 0, 12)12 - AIC:526.1223243713335\n",
      "ARIMA(0, 1, 1)x(0, 0, 1, 12)12 - AIC:475.47911964888453\n",
      "ARIMA(0, 1, 1)x(0, 1, 0, 12)12 - AIC:590.3979012001779\n",
      "ARIMA(0, 1, 1)x(0, 1, 1, 12)12 - AIC:440.1468402929044\n",
      "ARIMA(0, 1, 1)x(1, 0, 0, 12)12 - AIC:478.3273302491123\n",
      "ARIMA(0, 1, 1)x(1, 0, 1, 12)12 - AIC:464.8158926415531\n",
      "ARIMA(0, 1, 1)x(1, 1, 0, 12)12 - AIC:463.92785088189277\n",
      "ARIMA(0, 1, 1)x(1, 1, 1, 12)12 - AIC:446.0595883911474\n",
      "ARIMA(1, 0, 0)x(0, 0, 0, 12)12 - AIC:548.0310846645845\n",
      "ARIMA(1, 0, 0)x(0, 0, 1, 12)12 - AIC:497.9282115237433\n",
      "ARIMA(1, 0, 0)x(0, 1, 0, 12)12 - AIC:605.0276427078574\n",
      "ARIMA(1, 0, 0)x(0, 1, 1, 12)12 - AIC:455.64767330312645\n",
      "ARIMA(1, 0, 0)x(1, 0, 0, 12)12 - AIC:491.52197031199296\n",
      "ARIMA(1, 0, 0)x(1, 0, 1, 12)12 - AIC:483.39126003434234\n",
      "ARIMA(1, 0, 0)x(1, 1, 0, 12)12 - AIC:476.796645218068\n",
      "ARIMA(1, 0, 0)x(1, 1, 1, 12)12 - AIC:472.9074713076595\n",
      "ARIMA(1, 0, 1)x(0, 0, 0, 12)12 - AIC:535.4464034832436\n",
      "ARIMA(1, 0, 1)x(0, 0, 1, 12)12 - AIC:487.0422323523045\n",
      "ARIMA(1, 0, 1)x(0, 1, 0, 12)12 - AIC:597.2550496239313\n",
      "ARIMA(1, 0, 1)x(0, 1, 1, 12)12 - AIC:444.352885933111\n",
      "ARIMA(1, 0, 1)x(1, 0, 0, 12)12 - AIC:477.31450701717165\n",
      "ARIMA(1, 0, 1)x(1, 0, 1, 12)12 - AIC:467.4012170924069\n",
      "ARIMA(1, 0, 1)x(1, 1, 0, 12)12 - AIC:463.7096586625107\n",
      "ARIMA(1, 0, 1)x(1, 1, 1, 12)12 - AIC:450.84214842156166\n",
      "ARIMA(1, 1, 0)x(0, 0, 0, 12)12 - AIC:535.6034448238955\n",
      "ARIMA(1, 1, 0)x(0, 0, 1, 12)12 - AIC:478.6484822519146\n",
      "ARIMA(1, 1, 0)x(0, 1, 0, 12)12 - AIC:600.6102524857123\n",
      "ARIMA(1, 1, 0)x(0, 1, 1, 12)12 - AIC:443.44658766336573\n",
      "ARIMA(1, 1, 0)x(1, 0, 0, 12)12 - AIC:472.3916802328244\n",
      "ARIMA(1, 1, 0)x(1, 0, 1, 12)12 - AIC:467.29616367344823\n",
      "ARIMA(1, 1, 0)x(1, 1, 0, 12)12 - AIC:460.937399970256\n",
      "ARIMA(1, 1, 0)x(1, 1, 1, 12)12 - AIC:446.2007129972789\n",
      "ARIMA(1, 1, 1)x(0, 0, 0, 12)12 - AIC:526.6700847453019\n",
      "ARIMA(1, 1, 1)x(0, 0, 1, 12)12 - AIC:476.59363943505906\n",
      "ARIMA(1, 1, 1)x(0, 1, 0, 12)12 - AIC:579.9675086870242\n",
      "ARIMA(1, 1, 1)x(0, 1, 1, 12)12 - AIC:441.58544064618405\n",
      "ARIMA(1, 1, 1)x(1, 0, 0, 12)12 - AIC:474.3824130574851\n",
      "ARIMA(1, 1, 1)x(1, 0, 1, 12)12 - AIC:465.85903616309054\n",
      "ARIMA(1, 1, 1)x(1, 1, 0, 12)12 - AIC:460.8342056422056\n",
      "ARIMA(1, 1, 1)x(1, 1, 1, 12)12 - AIC:444.548173298735\n"
     ]
    }
   ],
   "source": [
    "for param in pdq:\n",
    "    for param_seasonal in seasonal_pdq:\n",
    "        try:\n",
    "            mod = sm.tsa.statespace.SARIMAX(y,\n",
    "                                            order=param,\n",
    "                                            seasonal_order=param_seasonal,\n",
    "                                            enforce_stationarity=False,\n",
    "                                            enforce_invertibility=False)\n",
    "        except:\n",
    "            continue\n",
    "        results = mod.fit()\n",
    "        print('ARIMA{}x{}12 - AIC:{}'.format(param, param_seasonal, results.aic))"
   ]
  },
  {
   "cell_type": "code",
   "execution_count": 52,
   "metadata": {
    "ExecuteTime": {
     "end_time": "2019-12-17T10:44:29.098070Z",
     "start_time": "2019-12-17T10:44:28.178258Z"
    }
   },
   "outputs": [
    {
     "name": "stdout",
     "output_type": "stream",
     "text": [
      "==============================================================================\n",
      "                 coef    std err          z      P>|z|      [0.025      0.975]\n",
      "------------------------------------------------------------------------------\n",
      "ma.L1          0.3434      0.107      3.205      0.001       0.133       0.553\n",
      "ma.L2         -0.0700      0.093     -0.749      0.454      -0.253       0.113\n",
      "ma.S.L12      -1.9218   6954.991     -0.000      1.000   -1.36e+04    1.36e+04\n",
      "ma.S.L24       1.0000   7238.320      0.000      1.000   -1.42e+04    1.42e+04\n",
      "sigma2         3.9036   2.83e+04      0.000      1.000   -5.54e+04    5.54e+04\n",
      "==============================================================================\n"
     ]
    }
   ],
   "source": [
    "#ARIMA(0, 1, 2)x(0, 2, 2, 12)12 - AIC:390.88788508639425\n",
    "\n",
    "mod = sm.tsa.statespace.SARIMAX(y,\n",
    "                                order=(0,1,2),\n",
    "                                seasonal_order=(0,2,2,12),\n",
    "                                enforce_stationarity=False,\n",
    "                                enforce_invertibility=False)\n",
    "results = mod.fit()\n",
    "print(results.summary().tables[1])\n"
   ]
  },
  {
   "cell_type": "code",
   "execution_count": null,
   "metadata": {},
   "outputs": [],
   "source": []
  },
  {
   "cell_type": "code",
   "execution_count": 46,
   "metadata": {
    "ExecuteTime": {
     "end_time": "2019-12-17T10:44:30.510968Z",
     "start_time": "2019-12-17T10:44:29.371482Z"
    }
   },
   "outputs": [
    {
     "data": {
      "image/png": "[encoded data removed]",
      "text/plain": [
       "<Figure size 1152x576 with 4 Axes>"
      ]
     },
     "metadata": {
      "image/png": {
       "height": 513,
       "width": 956
      },
      "needs_background": "light"
     },
     "output_type": "display_data"
    }
   ],
   "source": [
    "results.plot_diagnostics(figsize=(16, 8))\n",
    "plt.show()"
   ]
  },
  {
   "cell_type": "markdown",
   "metadata": {},
   "source": [
    "## Validating forecasts"
   ]
  },
  {
   "cell_type": "code",
   "execution_count": 47,
   "metadata": {
    "ExecuteTime": {
     "end_time": "2019-12-17T10:44:31.384480Z",
     "start_time": "2019-12-17T10:44:30.512862Z"
    }
   },
   "outputs": [
    {
     "data": {
      "image/png": "[encoded data removed]",
      "text/plain": [
       "<Figure size 1008x504 with 1 Axes>"
      ]
     },
     "metadata": {
      "image/png": {
       "height": 440,
       "width": 853
      },
      "needs_background": "light"
     },
     "output_type": "display_data"
    }
   ],
   "source": [
    "#Here i choose the start of 2019\n",
    "pred = results.get_prediction(start=pd.to_datetime('2019-01-01'), dynamic=True)\n",
    "pred_ci = pred.conf_int()\n",
    "ax = y['2009':].plot(label='observed')\n",
    "pred.predicted_mean.plot(ax=ax, label='One-step ahead Forecast', alpha=.7, figsize=(14, 7))\n",
    "ax.fill_between(pred_ci.index,\n",
    "                pred_ci.iloc[:, 0],\n",
    "                pred_ci.iloc[:, 1], color='k', alpha=.2)\n",
    "ax.set_xlabel('Date')\n",
    "ax.set_ylabel('Open Prices AbdullatifـIndustrial')\n",
    "plt.legend()\n",
    "plt.show()"
   ]
  },
  {
   "cell_type": "code",
   "execution_count": 48,
   "metadata": {
    "ExecuteTime": {
     "end_time": "2019-12-17T10:44:31.393276Z",
     "start_time": "2019-12-17T10:44:31.386918Z"
    }
   },
   "outputs": [
    {
     "name": "stdout",
     "output_type": "stream",
     "text": [
      "The Mean Squared Error of our forecasts is 12.95\n"
     ]
    }
   ],
   "source": [
    "y_forecasted = pred.predicted_mean\n",
    "y_truth = y['2019-01-01':]\n",
    "mse = ((y_forecasted - y_truth) ** 2).mean()\n",
    "print('The Mean Squared Error of our forecasts is {}'.format(round(mse, 2)))"
   ]
  },
  {
   "cell_type": "code",
   "execution_count": 49,
   "metadata": {
    "ExecuteTime": {
     "end_time": "2019-12-17T10:44:31.397954Z",
     "start_time": "2019-12-17T10:44:31.394998Z"
    }
   },
   "outputs": [
    {
     "name": "stdout",
     "output_type": "stream",
     "text": [
      "The Root Mean Squared Error of our forecasts is 3.6\n"
     ]
    }
   ],
   "source": [
    "print('The Root Mean Squared Error of our forecasts is {}'.format(round(np.sqrt(mse), 2)))"
   ]
  },
  {
   "cell_type": "markdown",
   "metadata": {},
   "source": [
    "## Producing and visualizing forecasts"
   ]
  },
  {
   "cell_type": "code",
   "execution_count": null,
   "metadata": {
    "ExecuteTime": {
     "end_time": "2019-12-17T10:50:44.430162Z",
     "start_time": "2019-12-17T10:50:43.634230Z"
    }
   },
   "outputs": [],
   "source": [
    "pred_uc = results.get_forecast(steps=36)\n",
    "pred_ci = pred_uc.conf_int()\n",
    "ax = y.plot(label='observed', figsize=(14, 7))\n",
    "pred_uc.predicted_mean.plot(ax=ax, label='Forecast')\n",
    "ax.fill_between(pred_ci.index,\n",
    "                pred_ci.iloc[:, 0],\n",
    "                pred_ci.iloc[:, 1], color='k', alpha=.25)\n",
    "ax.set_xlabel('Date')\n",
    "plt.legend()\n",
    "plt.show()"
   ]
  },
  {
   "cell_type": "markdown",
   "metadata": {},
   "source": [
    "## Model "
   ]
  },
  {
   "cell_type": "code",
   "execution_count": null,
   "metadata": {
    "ExecuteTime": {
     "end_time": "2019-12-16T12:22:22.261644Z",
     "start_time": "2019-12-16T12:22:22.252830Z"
    }
   },
   "outputs": [],
   "source": [
    "gboost  = GradientBoostingRegressor()\n",
    "rt      = RandomForestRegressor()\n",
    "lr      = LinearRegression()\n",
    "lasso   = Lasso()\n",
    "ridge   = Ridge()\n",
    "en      = ElasticNet()\n",
    "huber   = HuberRegressor()\n",
    "lars    = Lars()\n",
    "\n",
    "pa      = PassiveAggressiveRegressor(max_iter=1000, tol=1e-3)\n",
    "ranscac = RANSACRegressor()\n",
    "\n",
    "mod = [lr, lasso, ridge, en, huber, lars, pa, ranscac, gboost, rt,# llars, sgd\n",
    "      ]"
   ]
  },
  {
   "cell_type": "code",
   "execution_count": null,
   "metadata": {
    "ExecuteTime": {
     "end_time": "2019-12-16T12:45:41.034016Z",
     "start_time": "2019-12-16T12:45:41.029519Z"
    }
   },
   "outputs": [],
   "source": [
    "def evaluate_model(model, X_train, y_train, X_test, y_test):\n",
    "    model.fit(X_train, y_train)\n",
    "    model.predict(X_train)\n",
    "    model.predict(X_test)\n"
   ]
  },
  {
   "cell_type": "code",
   "execution_count": null,
   "metadata": {
    "ExecuteTime": {
     "end_time": "2019-12-16T12:45:42.059198Z",
     "start_time": "2019-12-16T12:45:41.308900Z"
    },
    "scrolled": true
   },
   "outputs": [],
   "source": [
    "for i in mod:\n",
    "     evaluate_model(i,X_train, LSTM_training_outputs, X_test, LSTM_test_outputs)"
   ]
  },
  {
   "cell_type": "code",
   "execution_count": null,
   "metadata": {
    "ExecuteTime": {
     "end_time": "2019-12-16T10:36:11.897541Z",
     "start_time": "2019-12-16T10:36:11.856439Z"
    }
   },
   "outputs": [],
   "source": [
    "LSTM_pred = nn_model.predict(LSTM_test_inputs).T[0]"
   ]
  },
  {
   "cell_type": "code",
   "execution_count": null,
   "metadata": {
    "ExecuteTime": {
     "end_time": "2019-12-16T10:08:43.006216Z",
     "start_time": "2019-12-16T10:08:42.984377Z"
    }
   },
   "outputs": [],
   "source": [
    "Lr_train_pred = lr.predict(X_train)\n",
    "Lr_test_pred = lr.predict(X_test)\n",
    "Lasso_train_pred = lasso.predict(X_train)\n",
    "Lasso_test_pred = lasso.predict(X_test)\n",
    "Ridge_train_pred = ridge.predict(X_train)\n",
    "Ridge_test_pred = ridge.predict(X_test)\n",
    "ElasticNet_train_pred = en.predict(X_train)\n",
    "ElasticNet_test_pred = en.predict(X_test)\n",
    "HuberRegressor_train_pred = huber.predict(X_train)\n",
    "HuberRegressor_test_pred = huber.predict(X_test)\n",
    "Lars_train_pred = lars.predict(X_train)\n",
    "Lars_test_pred = lars.predict(X_test)\n",
    "\n",
    "PassiveAggressiveRegressor_train_pred = pa.predict(X_train)\n",
    "PassiveAggressiveRegressor_test_pred = pa.predict(X_test)\n",
    "RANSACRegressor_train_pred = ranscac.predict(X_train)\n",
    "RANSACRegressor_test_pred = ranscac.predict(X_test)\n",
    "\n",
    "GradientBoostingRegressor_train_pred = gboost.predict(X_train)\n",
    "GradientBoostingRegressor_test_pred = gboost.predict(X_test)\n",
    "RandomForestRegressor_train_pred  = rt.predict(X_train)\n",
    "RandomForestRegressor_test_pred  = rt.predict(X_test)"
   ]
  },
  {
   "cell_type": "code",
   "execution_count": null,
   "metadata": {
    "ExecuteTime": {
     "end_time": "2019-12-17T06:30:24.027741Z",
     "start_time": "2019-12-17T06:30:22.534816Z"
    }
   },
   "outputs": [],
   "source": [
    "fig = plt.subplots( figsize=(18,9))\n",
    "plt.plot(LSTM_training_outputs, label = \"actual\")\n",
    "plt.plot(Lr_train_pred, label = \"lr\")\n",
    "plt.plot(nn_model.predict(LSTM_training_inputs), label = \"LSTM\")\n",
    "plt.plot(Lasso_train_pred, label = \"Lasso\")\n",
    "plt.plot(Ridge_train_pred, label = \"Ridge\")\n",
    "plt.plot(ElasticNet_train_pred, label = \"ElasticNet\")\n",
    "plt.plot(HuberRegressor_train_pred, label = \"HuberRegressor\")\n",
    "plt.plot(Lars_train_pred, label = \"Lars\")\n",
    "# \n",
    "plt.plot(PassiveAggressiveRegressor_train_pred, label = \"PassiveAggressiveRegressor\")\n",
    "plt.plot(RandomForestRegressor_train_pred, label = \"RandomForestRegressor\")\n",
    "plt.plot(GradientBoostingRegressor_train_pred, label = \"GradientBoostingRegressor\")\n",
    "# plt.plot(RANSACRegressor_tradin_pred, label = \"RANSACRegressor\")\n",
    "\n",
    "plt.title('Models Predictions on Training  Vs. Actual for 2009 - 2018')\n",
    "plt.legend()\n",
    "plt.show()"
   ]
  },
  {
   "cell_type": "code",
   "execution_count": null,
   "metadata": {
    "ExecuteTime": {
     "end_time": "2019-12-17T05:57:51.986659Z",
     "start_time": "2019-12-17T05:57:50.524690Z"
    }
   },
   "outputs": [],
   "source": [
    "fig = plt.subplots( figsize=(20,10))\n",
    "plt.plot(LSTM_test_outputs, label = \"actual\")\n",
    "plt.plot(nn_model.predict(LSTM_test_inputs), label = \"LSTM\")\n",
    "plt.plot(Lr_test_pred, label = \"lr\")\n",
    "plt.plot(Ridge_test_pred, label = \"Ridge\")\n",
    "plt.plot(ElasticNet_test_pred, label = \"ElasticNet\")\n",
    "plt.plot(HuberRegressor_test_pred, label = \"HuberRegressor\")\n",
    "plt.plot(Lars_test_pred, label = \"Lars\")\n",
    "\n",
    "plt.plot(PassiveAggressiveRegressor_test_pred, label = \"PassiveAggressiveRegressor\")\n",
    "plt.plot(RANSACRegressor_test_pred, label = \"RANSACRegressor\")\n",
    "\n",
    "plt.plot(Lasso_test_pred, label = \"Lasso\")\n",
    "plt.plot(RandomForestRegressor_test_pred, label = \"RandomForestRegressor\")\n",
    "plt.plot(GradientBoostingRegressor_test_pred, label = \"GradientBoostingRegressor\")\n",
    "plt.title('Models predictionon test Vs. Actual for 2019')\n",
    "plt.legend(loc=1)\n",
    "plt.show()"
   ]
  },
  {
   "cell_type": "code",
   "execution_count": null,
   "metadata": {
    "ExecuteTime": {
     "end_time": "2019-12-16T10:36:26.810104Z",
     "start_time": "2019-12-16T10:36:26.800629Z"
    }
   },
   "outputs": [],
   "source": [
    "predictions_test = pd.DataFrame({'Actual' : LSTM_test_outputs,\n",
    "                                'Lr' : Lr_test_pred,\n",
    "                                'Lasso' :Lasso_test_pred  ,\n",
    "                                'Ridge':Ridge_test_pred ,\n",
    "                                'ElasticNet' :ElasticNet_test_pred ,\n",
    "                                'PassiveAggressiveRegressor' :PassiveAggressiveRegressor_test_pred  ,\n",
    "                                'HuberRegressor': HuberRegressor_test_pred,\n",
    "                                'Lars' : Lars_test_pred,\n",
    "                                'RANSACRegressor' : RANSACRegressor_test_pred ,\n",
    "                                'LSTM':LSTM_pred,\n",
    "                                'GradientBoostingRegressor':GradientBoostingRegressor_test_pred,\n",
    "                                'RandomForestRegressor':RandomForestRegressor_test_pred\n",
    "                                }, \n",
    "                                columns=['Actual','Lr','Lasso', 'Ridge','ElasticNet','PassiveAggressiveRegressor',\n",
    "                                        'HuberRegressor','Lars','RANSACRegressor','LSTM',  'RandomForestRegressor',\n",
    "                                       'GradientBoostingRegressor' ])"
   ]
  },
  {
   "cell_type": "code",
   "execution_count": null,
   "metadata": {
    "ExecuteTime": {
     "end_time": "2019-12-16T10:36:29.618049Z",
     "start_time": "2019-12-16T10:36:29.604702Z"
    }
   },
   "outputs": [],
   "source": [
    "predictions_test.head()"
   ]
  },
  {
   "cell_type": "markdown",
   "metadata": {},
   "source": [
    "## Validating our model"
   ]
  },
  {
   "cell_type": "code",
   "execution_count": null,
   "metadata": {
    "ExecuteTime": {
     "end_time": "2019-12-16T10:39:35.972396Z",
     "start_time": "2019-12-16T10:39:35.955825Z"
    }
   },
   "outputs": [],
   "source": [
    "df_new = pd.read_csv('NEWW-Equites_Historical_NonAdjusted_Prices.csv', usecols=['Industry Group', 'Symbol', \n",
    "                                                                       'Company Name', 'Date', 'Open', 'High',\n",
    "                                                                       'Low', 'Close', 'Change', '% Change', \n",
    "                                                                       'Volume Traded','Value Traded (SAR)', \n",
    "                                                                       'No. of Trades'])"
   ]
  },
  {
   "cell_type": "code",
   "execution_count": null,
   "metadata": {
    "ExecuteTime": {
     "end_time": "2019-12-16T10:45:19.504388Z",
     "start_time": "2019-12-16T10:45:19.332815Z"
    }
   },
   "outputs": [],
   "source": [
    "df_new.Date = pd.to_datetime(df.Date, dayfirst=True)"
   ]
  },
  {
   "cell_type": "code",
   "execution_count": null,
   "metadata": {
    "ExecuteTime": {
     "end_time": "2019-12-16T11:09:05.740340Z",
     "start_time": "2019-12-16T11:09:05.735292Z"
    },
    "colab": {},
    "colab_type": "code",
    "id": "Q6OlwEiBYO7y"
   },
   "outputs": [],
   "source": [
    "df_new.sort_values('Date',inplace=True)"
   ]
  },
  {
   "cell_type": "code",
   "execution_count": null,
   "metadata": {
    "ExecuteTime": {
     "end_time": "2019-12-17T06:20:31.189572Z",
     "start_time": "2019-12-17T06:20:31.174174Z"
    }
   },
   "outputs": [],
   "source": [
    "df_new.head(4)"
   ]
  },
  {
   "cell_type": "code",
   "execution_count": null,
   "metadata": {
    "ExecuteTime": {
     "end_time": "2019-12-16T11:09:16.828654Z",
     "start_time": "2019-12-16T11:09:16.824525Z"
    }
   },
   "outputs": [],
   "source": [
    "AbdullatifـIndustrial_2_weeks = df_new[df_new['Company Name']== 'Al Abdullatif Industrial Investment Co.']"
   ]
  },
  {
   "cell_type": "code",
   "execution_count": null,
   "metadata": {
    "ExecuteTime": {
     "end_time": "2019-12-16T11:09:17.407951Z",
     "start_time": "2019-12-16T11:09:17.388886Z"
    }
   },
   "outputs": [],
   "source": [
    "AbdullatifـIndustrial_2_weeks"
   ]
  },
  {
   "cell_type": "code",
   "execution_count": null,
   "metadata": {
    "ExecuteTime": {
     "end_time": "2019-12-16T11:18:18.134321Z",
     "start_time": "2019-12-16T11:18:18.128703Z"
    }
   },
   "outputs": [],
   "source": [
    "AbdullatifـIndustrial2w_for_model = AbdullatifـIndustrial_2_weeks[['Date','Open', 'High', 'Low',\n",
    "       'Close', 'Change', '% Change']]"
   ]
  },
  {
   "cell_type": "code",
   "execution_count": null,
   "metadata": {
    "ExecuteTime": {
     "end_time": "2019-12-16T11:18:18.439421Z",
     "start_time": "2019-12-16T11:18:18.426724Z"
    }
   },
   "outputs": [],
   "source": [
    "AbdullatifـIndustrial2w_for_model"
   ]
  },
  {
   "cell_type": "code",
   "execution_count": null,
   "metadata": {
    "ExecuteTime": {
     "end_time": "2019-12-16T11:18:23.526774Z",
     "start_time": "2019-12-16T11:18:23.523233Z"
    }
   },
   "outputs": [],
   "source": [
    "AbdullatifـIndustrial2w_for_model.reset_index(inplace=True)"
   ]
  },
  {
   "cell_type": "code",
   "execution_count": null,
   "metadata": {
    "ExecuteTime": {
     "end_time": "2019-12-16T11:17:58.360825Z",
     "start_time": "2019-12-16T11:17:58.356929Z"
    }
   },
   "outputs": [],
   "source": [
    "asm = AbdullatifـIndustrial_for_model[-6:]"
   ]
  },
  {
   "cell_type": "code",
   "execution_count": null,
   "metadata": {
    "ExecuteTime": {
     "end_time": "2019-12-16T11:17:59.027008Z",
     "start_time": "2019-12-16T11:17:59.013918Z"
    }
   },
   "outputs": [],
   "source": [
    "asm"
   ]
  },
  {
   "cell_type": "code",
   "execution_count": null,
   "metadata": {
    "ExecuteTime": {
     "end_time": "2019-12-16T11:18:26.717550Z",
     "start_time": "2019-12-16T11:18:26.701307Z"
    },
    "scrolled": true
   },
   "outputs": [],
   "source": [
    "AbdullatifـIndustrial2w_for_model"
   ]
  },
  {
   "cell_type": "code",
   "execution_count": null,
   "metadata": {
    "ExecuteTime": {
     "end_time": "2019-12-16T11:18:45.117910Z",
     "start_time": "2019-12-16T11:18:45.102883Z"
    }
   },
   "outputs": [],
   "source": [
    "abr = asm.merge(AbdullatifـIndustrial2w_for_model, how='outer')"
   ]
  },
  {
   "cell_type": "code",
   "execution_count": null,
   "metadata": {
    "ExecuteTime": {
     "end_time": "2019-12-16T11:20:18.752566Z",
     "start_time": "2019-12-16T11:20:18.748006Z"
    }
   },
   "outputs": [],
   "source": [
    "abr.set_index('Date',inplace=True)"
   ]
  },
  {
   "cell_type": "code",
   "execution_count": null,
   "metadata": {
    "ExecuteTime": {
     "end_time": "2019-12-16T11:20:44.700596Z",
     "start_time": "2019-12-16T11:20:44.693943Z"
    }
   },
   "outputs": [],
   "source": [
    "abr.pop('index')"
   ]
  },
  {
   "cell_type": "code",
   "execution_count": null,
   "metadata": {
    "ExecuteTime": {
     "end_time": "2019-12-16T11:36:09.437118Z",
     "start_time": "2019-12-16T11:36:09.423256Z"
    }
   },
   "outputs": [],
   "source": [
    "abr"
   ]
  },
  {
   "cell_type": "code",
   "execution_count": null,
   "metadata": {
    "ExecuteTime": {
     "end_time": "2019-12-16T11:23:58.979779Z",
     "start_time": "2019-12-16T11:23:58.975890Z"
    }
   },
   "outputs": [],
   "source": [
    "abr2=abr[1:].values"
   ]
  },
  {
   "cell_type": "code",
   "execution_count": null,
   "metadata": {
    "ExecuteTime": {
     "end_time": "2019-12-16T11:24:00.507543Z",
     "start_time": "2019-12-16T11:24:00.501339Z"
    }
   },
   "outputs": [],
   "source": [
    "abr2"
   ]
  },
  {
   "cell_type": "code",
   "execution_count": null,
   "metadata": {
    "ExecuteTime": {
     "end_time": "2019-12-16T11:50:17.121157Z",
     "start_time": "2019-12-16T11:50:17.114938Z"
    }
   },
   "outputs": [],
   "source": [
    "X_valid = []\n",
    "for i in range(len(abr2)-window_len):\n",
    "    temp_set = abr2[i:(i+window_len)].copy()\n",
    "    X_valid.append(temp_set)\n",
    "y_valid = abr['Close'][window_len:].values\n",
    "X_valid = np.array(X_valid)"
   ]
  },
  {
   "cell_type": "code",
   "execution_count": null,
   "metadata": {
    "ExecuteTime": {
     "end_time": "2019-12-16T11:45:22.312283Z",
     "start_time": "2019-12-16T11:45:22.307397Z"
    }
   },
   "outputs": [],
   "source": [
    "X_valid"
   ]
  },
  {
   "cell_type": "code",
   "execution_count": null,
   "metadata": {
    "ExecuteTime": {
     "end_time": "2019-12-16T11:56:34.401835Z",
     "start_time": "2019-12-16T11:56:34.397996Z"
    }
   },
   "outputs": [],
   "source": [
    "X_valid_resaped = X_valid.reshape(11,30)"
   ]
  },
  {
   "cell_type": "code",
   "execution_count": null,
   "metadata": {
    "ExecuteTime": {
     "end_time": "2019-12-16T11:51:35.251238Z",
     "start_time": "2019-12-16T11:51:35.245491Z"
    }
   },
   "outputs": [],
   "source": [
    "y_valid"
   ]
  },
  {
   "cell_type": "code",
   "execution_count": null,
   "metadata": {
    "ExecuteTime": {
     "end_time": "2019-12-16T11:57:29.289391Z",
     "start_time": "2019-12-16T11:57:29.275884Z"
    }
   },
   "outputs": [],
   "source": [
    "LSTM_valid_pred = nn_model.predict(X_valid).T[0]\n",
    "Lr_valid_pred = lr.predict(X_valid_resaped)\n",
    "Lasso_valid_pred = lasso.predict(X_valid_resaped)\n",
    "Ridge_valid_pred = ridge.predict(X_valid_resaped)\n",
    "ElasticNet_valid_pred = en.predict(X_valid_resaped)\n",
    "HuberRegressor_valid_pred = huber.predict(X_valid_resaped)\n",
    "Lars_valid_pred = lars.predict(X_valid_resaped)\n",
    "\n",
    "PassiveAggressiveRegressor_valid_pred = pa.predict(X_valid_resaped)\n",
    "RANSACRegressor_valid_pred = ranscac.predict(X_valid_resaped)\n",
    "\n",
    "GradientBoostingRegressor_valid_pred = gboost.predict(X_valid_resaped)\n",
    "RandomForestRegressor_valid_pred  = rt.predict(X_valid_resaped)"
   ]
  },
  {
   "cell_type": "code",
   "execution_count": null,
   "metadata": {
    "ExecuteTime": {
     "end_time": "2019-12-17T06:25:48.221058Z",
     "start_time": "2019-12-17T06:25:46.882203Z"
    }
   },
   "outputs": [],
   "source": [
    "fig = plt.subplots( figsize=(20,10))\n",
    "plt.plot(y_valid[:-1], label = \"actual\")\n",
    "plt.plot(LSTM_valid_pred, label = \"LSTM\")\n",
    "plt.plot(Lr_valid_pred, label = \"lr\")\n",
    "plt.plot(Ridge_valid_pred, label = \"Ridge\")\n",
    "plt.plot(ElasticNet_valid_pred, label = \"ElasticNet\")\n",
    "plt.plot(HuberRegressor_valid_pred, label = \"HuberRegressor\")\n",
    "plt.plot(Lars_valid_pred, label = \"Lars\")\n",
    "# plt.plot(LassoLars_valid_pred, label = \"LassoLars\")\n",
    "plt.plot(PassiveAggressiveRegressor_valid_pred, label = \"PassiveAggressiveRegressor\")\n",
    "#plt.plot(RANSACRegressor_valid_pred, label = \"RANSACRegressor\")\n",
    "# plt.plot(SGDRegressor_valid_pred, label = \"SGDRegressor\")\n",
    "plt.plot(Lasso_valid_pred, label = \"Lasso\")\n",
    "plt.plot(RandomForestRegressor_valid_pred, label = \"RandomForestRegressor\")\n",
    "plt.plot(GradientBoostingRegressor_valid_pred, label = \"GradientBoostingRegressor\")\n",
    "plt.legend(loc=2)\n",
    "plt.show()"
   ]
  },
  {
   "cell_type": "code",
   "execution_count": null,
   "metadata": {
    "ExecuteTime": {
     "end_time": "2019-12-17T11:19:35.293963Z",
     "start_time": "2019-12-17T11:19:35.285490Z"
    }
   },
   "outputs": [],
   "source": [
    "R2_score_valid_LSTM = r2_score(y_valid[:-1],nn_model.predict(X_valid))"
   ]
  },
  {
   "cell_type": "code",
   "execution_count": null,
   "metadata": {
    "ExecuteTime": {
     "end_time": "2019-12-17T11:19:35.895998Z",
     "start_time": "2019-12-17T11:19:35.566881Z"
    }
   },
   "outputs": [],
   "source": [
    "R2_traininig_score_LSTM = r2_score(LSTM_training_outputs,nn_model.predict(LSTM_training_inputs))"
   ]
  },
  {
   "cell_type": "code",
   "execution_count": null,
   "metadata": {
    "ExecuteTime": {
     "end_time": "2019-12-17T11:19:35.922898Z",
     "start_time": "2019-12-17T11:19:35.897501Z"
    }
   },
   "outputs": [],
   "source": [
    "R2_score_test_LSTM=r2_score(LSTM_test_outputs,nn_model.predict(LSTM_test_inputs))"
   ]
  },
  {
   "cell_type": "code",
   "execution_count": null,
   "metadata": {},
   "outputs": [],
   "source": [
    "R2_score_test_LSTM"
   ]
  },
  {
   "cell_type": "code",
   "execution_count": null,
   "metadata": {},
   "outputs": [],
   "source": [
    "R2_traininig_score_LSTM"
   ]
  },
  {
   "cell_type": "code",
   "execution_count": null,
   "metadata": {
    "ExecuteTime": {
     "end_time": "2019-12-17T11:26:09.789835Z",
     "start_time": "2019-12-17T11:26:09.732133Z"
    }
   },
   "outputs": [],
   "source": [
    "R2_score_valid_LSTM"
   ]
  },
  {
   "cell_type": "code",
   "execution_count": null,
   "metadata": {
    "ExecuteTime": {
     "end_time": "2019-12-17T05:54:56.534925Z",
     "start_time": "2019-12-17T05:54:56.494672Z"
    }
   },
   "outputs": [],
   "source": [
    "models = ['LSTM','LR', 'lasso', 'ridge', 'en', 'huber', 'lars', 'pa', #'ranscac',\n",
    "          'gboost', 'rt']\n",
    "Training_R2=[R2_traininig_score_LSTM,lr.score(X_train,LSTM_training_outputs),\n",
    "            lasso.score(X_train,LSTM_training_outputs),ridge.score(X_train,LSTM_training_outputs), \n",
    "            en.score(X_train,LSTM_training_outputs),huber.score(X_train,LSTM_training_outputs),\n",
    "            lars.score(X_train,LSTM_training_outputs),\n",
    "            pa.score(X_train,LSTM_training_outputs), #ranscac.score(X_train,LSTM_training_outputs),\n",
    "             gboost.score(X_train,LSTM_training_outputs), rt.score(X_train,LSTM_training_outputs)]\n",
    "Test_R2=[R2_score_test_LSTM,lr.score(X_test,LSTM_test_outputs),lasso.score(X_test,LSTM_test_outputs), \n",
    "         ridge.score(X_test,LSTM_test_outputs),en.score(X_test,LSTM_test_outputs), \n",
    "         huber.score(X_test,LSTM_test_outputs),lars.score(X_test,LSTM_test_outputs), \n",
    "         pa.score(X_test,LSTM_test_outputs), \n",
    "        # ranscac.score(X_test,LSTM_test_outputs), \n",
    "         gboost.score(X_test,LSTM_test_outputs),rt.score(X_test,LSTM_test_outputs)]\n",
    "valid_R2=[R2_score_valid_LSTM,lr.score(X_valid_resaped, y_valid[:-1]),lasso.score(X_valid_resaped, y_valid[:-1]), \n",
    "         ridge.score(X_valid_resaped, y_valid[:-1]),en.score(X_valid_resaped, y_valid[:-1]), \n",
    "         huber.score(X_valid_resaped, y_valid[:-1]),lars.score(X_valid_resaped, y_valid[:-1]), \n",
    "         pa.score(X_valid_resaped, y_valid[:-1]), \n",
    "         #ranscac.score(X_valid_resaped, y_valid[:-1]), \n",
    "         gboost.score(X_valid_resaped, y_valid[:-1]),rt.score(X_valid_resaped, y_valid[:-1])]"
   ]
  },
  {
   "cell_type": "code",
   "execution_count": null,
   "metadata": {
    "ExecuteTime": {
     "end_time": "2019-12-17T05:54:58.232729Z",
     "start_time": "2019-12-17T05:54:58.224679Z"
    }
   },
   "outputs": [],
   "source": [
    "R2_scores = pd.DataFrame({'models' : models,\n",
    "                                'Training_R2' : Training_R2,\n",
    "                                'Test_R2' :Test_R2  ,\n",
    "                                'valid_R2':valid_R2 ,\n",
    "                                }, \n",
    "                                columns=[ 'models','Training_R2','Test_R2','valid_R2'])"
   ]
  },
  {
   "cell_type": "code",
   "execution_count": null,
   "metadata": {
    "ExecuteTime": {
     "end_time": "2019-12-17T05:54:58.580177Z",
     "start_time": "2019-12-17T05:54:58.570020Z"
    }
   },
   "outputs": [],
   "source": [
    "R2_scores"
   ]
  },
  {
   "cell_type": "code",
   "execution_count": null,
   "metadata": {
    "ExecuteTime": {
     "end_time": "2019-12-17T06:36:05.926388Z",
     "start_time": "2019-12-17T06:36:04.741212Z"
    }
   },
   "outputs": [],
   "source": [
    "fig = plt.subplots( figsize=(20,10))\n",
    "plt.plot(R2_scores['Training_R2'] ,label = \"Training_R2\")\n",
    "plt.plot(R2_scores['Test_R2'] ,label = \"Test_R2\")\n",
    "plt.plot(R2_scores['valid_R2'] ,label = \"valid_R2\")\n",
    "xlabel=R2_scores['models']\n",
    "plt.legend()\n",
    "plt.show()"
   ]
  }
 ],
 "metadata": {
  "colab": {
   "name": "new.ipynb",
   "provenance": []
  },
  "kernelspec": {
   "display_name": "Python 3",
   "language": "python",
   "name": "python3"
  },
  "language_info": {
   "codemirror_mode": {
    "name": "ipython",
    "version": 3
   },
   "file_extension": ".py",
   "mimetype": "text/x-python",
   "name": "python",
   "nbconvert_exporter": "python",
   "pygments_lexer": "ipython3",
   "version": "3.7.4"
  }
 },
 "nbformat": 4,
 "nbformat_minor": 1
}
